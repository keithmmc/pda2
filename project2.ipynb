{
 "cells": [
  {
   "cell_type": "markdown",
   "metadata": {},
   "source": [
    "# introduction "
   ]
  },
  {
   "cell_type": "code",
   "execution_count": 3,
   "metadata": {},
   "outputs": [],
   "source": [
    "import pandas as pd \n",
    "import numpy as np \n",
    "import seaborn as sns \n",
    "import matplotlib.pyplot as plt \n",
    "import sys \n",
    "from sklearn.impute import SimpleImputer\n",
    "import random\n",
    "from plotly.offline import iplot\n",
    "from plotnine import ggplot, aes, geom_line, geom_bar, geom_point, labs, coord_flip, theme_xkcd, geom_smooth\n",
    "import json \n",
    "import warnings \n"
   ]
  },
  {
   "cell_type": "markdown",
   "metadata": {},
   "source": [
    "# Introduction \n",
    "This project aims to explore the topic of climate change and show the corralations between CO2 levels polar ice and rainfall as the key variables, This research also seeks to investigate climate change signals within the context of Ireland's meteorological observations and harnesses data fusion techniques to amalgamate multiple datasets into a structured pandas dataframe."
   ]
  },
  {
   "cell_type": "markdown",
   "metadata": {},
   "source": [
    "# polar ice"
   ]
  },
  {
   "cell_type": "code",
   "execution_count": 4,
   "metadata": {},
   "outputs": [],
   "source": [
    "seaice = pd.read_csv('data/seaice.csv') #reading in the seaice dataset\n"
   ]
  },
  {
   "cell_type": "code",
   "execution_count": 5,
   "metadata": {},
   "outputs": [
    {
     "name": "stdout",
     "output_type": "stream",
     "text": [
      "<class 'pandas.core.frame.DataFrame'>\n",
      "RangeIndex: 26354 entries, 0 to 26353\n",
      "Data columns (total 7 columns):\n",
      " #   Column        Non-Null Count  Dtype  \n",
      "---  ------        --------------  -----  \n",
      " 0   Year          26354 non-null  int64  \n",
      " 1    Month        26354 non-null  int64  \n",
      " 2    Day          26354 non-null  int64  \n",
      " 3        Extent   26354 non-null  float64\n",
      " 4       Missing   26354 non-null  float64\n",
      " 5    Source Data  26354 non-null  object \n",
      " 6   hemisphere    26354 non-null  object \n",
      "dtypes: float64(2), int64(3), object(2)\n",
      "memory usage: 1.4+ MB\n"
     ]
    }
   ],
   "source": [
    "seaice.info() #checking the info on dataset"
   ]
  },
  {
   "cell_type": "code",
   "execution_count": 6,
   "metadata": {},
   "outputs": [],
   "source": [
    "southern = seaice[seaice.iloc[:,6]=='south'] #taking only the information from the south hempisphere"
   ]
  },
  {
   "cell_type": "code",
   "execution_count": 7,
   "metadata": {},
   "outputs": [],
   "source": [
    "years_list = list(southern['Year'].value_counts().index)\n",
    "years_list = sorted(years_list)"
   ]
  },
  {
   "cell_type": "code",
   "execution_count": 8,
   "metadata": {},
   "outputs": [],
   "source": [
    "\n",
    "warnings.simplefilter(action='ignore')\n",
    "def by_months(southern):    \n",
    "    s_months = 3 + ((2019-1979) * 12) + 5 \n",
    "    seaice_monthly = pd.DataFrame(columns=['Year', 'Month', 'Extent'], index=range(s_months))\n",
    "    i = 0\n",
    "    for year in years_list:\n",
    "        \n",
    "        if year == 1978:\n",
    "            months_list = range(10,13)\n",
    "        elif year == 2019:\n",
    "            months_list = range(1,6)\n",
    "        else:\n",
    "            months_list = range(1,13)\n",
    "\n",
    "        for month in months_list:\n",
    "            subset = southern[southern['Year']==year][southern.iloc[:,1]==month]\n",
    "            monthly_mean = np.mean(subset.iloc[:,3])\n",
    "            seaice_monthly.iloc[i] = [year, month, monthly_mean]\n",
    "            i += 1\n",
    "\n",
    "    return seaice_monthly\n",
    "\n",
    "seaice_clean = by_months(southern)"
   ]
  },
  {
   "cell_type": "code",
   "execution_count": 9,
   "metadata": {},
   "outputs": [
    {
     "data": {
      "text/html": [
       "<div>\n",
       "<style scoped>\n",
       "    .dataframe tbody tr th:only-of-type {\n",
       "        vertical-align: middle;\n",
       "    }\n",
       "\n",
       "    .dataframe tbody tr th {\n",
       "        vertical-align: top;\n",
       "    }\n",
       "\n",
       "    .dataframe thead th {\n",
       "        text-align: right;\n",
       "    }\n",
       "</style>\n",
       "<table border=\"1\" class=\"dataframe\">\n",
       "  <thead>\n",
       "    <tr style=\"text-align: right;\">\n",
       "      <th></th>\n",
       "      <th>Year</th>\n",
       "      <th>Month</th>\n",
       "      <th>Extent</th>\n",
       "    </tr>\n",
       "  </thead>\n",
       "  <tbody>\n",
       "    <tr>\n",
       "      <th>0</th>\n",
       "      <td>1978</td>\n",
       "      <td>10</td>\n",
       "      <td>17.699</td>\n",
       "    </tr>\n",
       "    <tr>\n",
       "      <th>1</th>\n",
       "      <td>1978</td>\n",
       "      <td>11</td>\n",
       "      <td>15.8964</td>\n",
       "    </tr>\n",
       "    <tr>\n",
       "      <th>2</th>\n",
       "      <td>1978</td>\n",
       "      <td>12</td>\n",
       "      <td>10.39525</td>\n",
       "    </tr>\n",
       "    <tr>\n",
       "      <th>3</th>\n",
       "      <td>1979</td>\n",
       "      <td>1</td>\n",
       "      <td>5.4022</td>\n",
       "    </tr>\n",
       "    <tr>\n",
       "      <th>4</th>\n",
       "      <td>1979</td>\n",
       "      <td>2</td>\n",
       "      <td>3.141071</td>\n",
       "    </tr>\n",
       "  </tbody>\n",
       "</table>\n",
       "</div>"
      ],
      "text/plain": [
       "   Year Month    Extent\n",
       "0  1978    10    17.699\n",
       "1  1978    11   15.8964\n",
       "2  1978    12  10.39525\n",
       "3  1979     1    5.4022\n",
       "4  1979     2  3.141071"
      ]
     },
     "execution_count": 9,
     "metadata": {},
     "output_type": "execute_result"
    }
   ],
   "source": [
    "seaice_clean.head()"
   ]
  },
  {
   "cell_type": "code",
   "execution_count": 10,
   "metadata": {},
   "outputs": [
    {
     "data": {
      "text/html": [
       "<div>\n",
       "<style scoped>\n",
       "    .dataframe tbody tr th:only-of-type {\n",
       "        vertical-align: middle;\n",
       "    }\n",
       "\n",
       "    .dataframe tbody tr th {\n",
       "        vertical-align: top;\n",
       "    }\n",
       "\n",
       "    .dataframe thead th {\n",
       "        text-align: right;\n",
       "    }\n",
       "</style>\n",
       "<table border=\"1\" class=\"dataframe\">\n",
       "  <thead>\n",
       "    <tr style=\"text-align: right;\">\n",
       "      <th></th>\n",
       "      <th>Year</th>\n",
       "      <th>Month</th>\n",
       "      <th>Extent</th>\n",
       "    </tr>\n",
       "  </thead>\n",
       "  <tbody>\n",
       "    <tr>\n",
       "      <th>483</th>\n",
       "      <td>2019</td>\n",
       "      <td>1</td>\n",
       "      <td>3.831323</td>\n",
       "    </tr>\n",
       "    <tr>\n",
       "      <th>484</th>\n",
       "      <td>2019</td>\n",
       "      <td>2</td>\n",
       "      <td>2.656214</td>\n",
       "    </tr>\n",
       "    <tr>\n",
       "      <th>485</th>\n",
       "      <td>2019</td>\n",
       "      <td>3</td>\n",
       "      <td>3.164161</td>\n",
       "    </tr>\n",
       "    <tr>\n",
       "      <th>486</th>\n",
       "      <td>2019</td>\n",
       "      <td>4</td>\n",
       "      <td>5.708633</td>\n",
       "    </tr>\n",
       "    <tr>\n",
       "      <th>487</th>\n",
       "      <td>2019</td>\n",
       "      <td>5</td>\n",
       "      <td>8.835516</td>\n",
       "    </tr>\n",
       "  </tbody>\n",
       "</table>\n",
       "</div>"
      ],
      "text/plain": [
       "     Year Month    Extent\n",
       "483  2019     1  3.831323\n",
       "484  2019     2  2.656214\n",
       "485  2019     3  3.164161\n",
       "486  2019     4  5.708633\n",
       "487  2019     5  8.835516"
      ]
     },
     "execution_count": 10,
     "metadata": {},
     "output_type": "execute_result"
    }
   ],
   "source": [
    "seaice_clean.tail()"
   ]
  },
  {
   "cell_type": "code",
   "execution_count": 11,
   "metadata": {},
   "outputs": [
    {
     "data": {
      "text/html": [
       "<div>\n",
       "<style scoped>\n",
       "    .dataframe tbody tr th:only-of-type {\n",
       "        vertical-align: middle;\n",
       "    }\n",
       "\n",
       "    .dataframe tbody tr th {\n",
       "        vertical-align: top;\n",
       "    }\n",
       "\n",
       "    .dataframe thead th {\n",
       "        text-align: right;\n",
       "    }\n",
       "</style>\n",
       "<table border=\"1\" class=\"dataframe\">\n",
       "  <thead>\n",
       "    <tr style=\"text-align: right;\">\n",
       "      <th></th>\n",
       "      <th>Year</th>\n",
       "      <th>Month</th>\n",
       "      <th>Extent</th>\n",
       "      <th>AnomaliesSIE</th>\n",
       "    </tr>\n",
       "  </thead>\n",
       "  <tbody>\n",
       "    <tr>\n",
       "      <th>0</th>\n",
       "      <td>1978</td>\n",
       "      <td>10</td>\n",
       "      <td>17.699</td>\n",
       "      <td>-2.349663</td>\n",
       "    </tr>\n",
       "    <tr>\n",
       "      <th>1</th>\n",
       "      <td>1978</td>\n",
       "      <td>11</td>\n",
       "      <td>15.8964</td>\n",
       "      <td>0.285111</td>\n",
       "    </tr>\n",
       "    <tr>\n",
       "      <th>2</th>\n",
       "      <td>1978</td>\n",
       "      <td>12</td>\n",
       "      <td>10.39525</td>\n",
       "      <td>-0.402900</td>\n",
       "    </tr>\n",
       "    <tr>\n",
       "      <th>3</th>\n",
       "      <td>1979</td>\n",
       "      <td>1</td>\n",
       "      <td>5.4022</td>\n",
       "      <td>8.505038</td>\n",
       "    </tr>\n",
       "    <tr>\n",
       "      <th>4</th>\n",
       "      <td>1979</td>\n",
       "      <td>2</td>\n",
       "      <td>3.141071</td>\n",
       "      <td>2.580231</td>\n",
       "    </tr>\n",
       "  </tbody>\n",
       "</table>\n",
       "</div>"
      ],
      "text/plain": [
       "   Year Month    Extent  AnomaliesSIE\n",
       "0  1978    10    17.699     -2.349663\n",
       "1  1978    11   15.8964      0.285111\n",
       "2  1978    12  10.39525     -0.402900\n",
       "3  1979     1    5.4022      8.505038\n",
       "4  1979     2  3.141071      2.580231"
      ]
     },
     "execution_count": 11,
     "metadata": {},
     "output_type": "execute_result"
    }
   ],
   "source": [
    "def anomaliesSIE(seaice):\n",
    "  #Calcule mean by months from 1981-2010\n",
    "  df_30y = seaice.query('1981 <= Year <= 2010')\n",
    "  df_30y = df_30y.reset_index().drop(['index'], axis=1)\n",
    "  mean_30y = []\n",
    "  for m in range(1,13):\n",
    "    mu = seaice[seaice.Month == m]['Extent'].mean()\n",
    "    mean_30y.append(mu)\n",
    "\n",
    "  #Compute SIE anomalies\n",
    "  anomalies_list = []\n",
    "  for s in range(0, len(seaice)):\n",
    "    mean_30y_index = seaice.loc[s, 'Month']-1\n",
    "    #Calcule anomalies\n",
    "    anomalies_SIE = seaice.loc[s, 'Extent'] - mean_30y[mean_30y_index]\n",
    "    anomalies_SIE = anomalies_SIE/mean_30y[mean_30y_index]*100\n",
    "    #Save anomalies\n",
    "    anomalies_list.append(anomalies_SIE)\n",
    "  seaice['AnomaliesSIE'] = anomalies_list\n",
    "  return seaice, mean_30y\n",
    "\n",
    "df_SIE, mean_30y = anomaliesSIE(seaice_clean)\n",
    "df_SIE.head()"
   ]
  },
  {
   "cell_type": "code",
   "execution_count": 12,
   "metadata": {},
   "outputs": [
    {
     "data": {
      "image/png": "[encoded data removed]",
      "text/plain": [
       "<Figure size 800x800 with 1 Axes>"
      ]
     },
     "metadata": {},
     "output_type": "display_data"
    }
   ],
   "source": [
    "mean_years = []\n",
    "std_dict = {}\n",
    "for m in range(1,13):\n",
    "  #Calcule mu and std values\n",
    "  mu = seaice_clean[seaice_clean.Month == m]['Extent'].mean()\n",
    "  std = seaice_clean[seaice_clean.Month == m]['Extent'].std()\n",
    "  #Save mu and std values\n",
    "  mean_years.append(mu)\n",
    "  std_dict[m] = std\n",
    "df_mean_years = pd.DataFrame(mean_years)\n",
    "df_mean_years['Month'] = range(1, 13)\n",
    "df_mean_years.columns = ['Extent', 'Month']\n",
    "plt.figure(figsize=(8, 8))\n",
    "sns.scatterplot(x='Month', y='Extent', data=df_mean_years,  color='blue', sizes=20).set(title='Mean of SIE per month')\n",
    "plt.show()"
   ]
  },
  {
   "cell_type": "markdown",
   "metadata": {},
   "source": [
    "# rainfall in Ireland "
   ]
  },
  {
   "cell_type": "code",
   "execution_count": 13,
   "metadata": {},
   "outputs": [],
   "source": [
    "Irish_rainfall = pd.read_csv('data/rainfall_ireland.csv') #loading in dataset "
   ]
  },
  {
   "cell_type": "code",
   "execution_count": 14,
   "metadata": {},
   "outputs": [
    {
     "data": {
      "text/html": [
       "<div>\n",
       "<style scoped>\n",
       "    .dataframe tbody tr th:only-of-type {\n",
       "        vertical-align: middle;\n",
       "    }\n",
       "\n",
       "    .dataframe tbody tr th {\n",
       "        vertical-align: top;\n",
       "    }\n",
       "\n",
       "    .dataframe thead th {\n",
       "        text-align: right;\n",
       "    }\n",
       "</style>\n",
       "<table border=\"1\" class=\"dataframe\">\n",
       "  <thead>\n",
       "    <tr style=\"text-align: right;\">\n",
       "      <th></th>\n",
       "      <th>Year</th>\n",
       "      <th>Month</th>\n",
       "      <th>Rainfall</th>\n",
       "    </tr>\n",
       "  </thead>\n",
       "  <tbody>\n",
       "    <tr>\n",
       "      <th>0</th>\n",
       "      <td>1711</td>\n",
       "      <td>1</td>\n",
       "      <td>16.4</td>\n",
       "    </tr>\n",
       "    <tr>\n",
       "      <th>1</th>\n",
       "      <td>1711</td>\n",
       "      <td>2</td>\n",
       "      <td>73.1</td>\n",
       "    </tr>\n",
       "    <tr>\n",
       "      <th>2</th>\n",
       "      <td>1711</td>\n",
       "      <td>3</td>\n",
       "      <td>121.2</td>\n",
       "    </tr>\n",
       "    <tr>\n",
       "      <th>3</th>\n",
       "      <td>1711</td>\n",
       "      <td>4</td>\n",
       "      <td>85.2</td>\n",
       "    </tr>\n",
       "    <tr>\n",
       "      <th>4</th>\n",
       "      <td>1711</td>\n",
       "      <td>5</td>\n",
       "      <td>66.6</td>\n",
       "    </tr>\n",
       "  </tbody>\n",
       "</table>\n",
       "</div>"
      ],
      "text/plain": [
       "   Year  Month  Rainfall\n",
       "0  1711      1      16.4\n",
       "1  1711      2      73.1\n",
       "2  1711      3     121.2\n",
       "3  1711      4      85.2\n",
       "4  1711      5      66.6"
      ]
     },
     "execution_count": 14,
     "metadata": {},
     "output_type": "execute_result"
    }
   ],
   "source": [
    "Irish_rainfall.head() # looking at the start of the dataset"
   ]
  },
  {
   "cell_type": "code",
   "execution_count": 15,
   "metadata": {},
   "outputs": [
    {
     "data": {
      "text/html": [
       "<div>\n",
       "<style scoped>\n",
       "    .dataframe tbody tr th:only-of-type {\n",
       "        vertical-align: middle;\n",
       "    }\n",
       "\n",
       "    .dataframe tbody tr th {\n",
       "        vertical-align: top;\n",
       "    }\n",
       "\n",
       "    .dataframe thead th {\n",
       "        text-align: right;\n",
       "    }\n",
       "</style>\n",
       "<table border=\"1\" class=\"dataframe\">\n",
       "  <thead>\n",
       "    <tr style=\"text-align: right;\">\n",
       "      <th></th>\n",
       "      <th>Year</th>\n",
       "      <th>Month</th>\n",
       "      <th>Rainfall</th>\n",
       "    </tr>\n",
       "  </thead>\n",
       "  <tbody>\n",
       "    <tr>\n",
       "      <th>3667</th>\n",
       "      <td>2016</td>\n",
       "      <td>8</td>\n",
       "      <td>79.1</td>\n",
       "    </tr>\n",
       "    <tr>\n",
       "      <th>3668</th>\n",
       "      <td>2016</td>\n",
       "      <td>9</td>\n",
       "      <td>108.1</td>\n",
       "    </tr>\n",
       "    <tr>\n",
       "      <th>3669</th>\n",
       "      <td>2016</td>\n",
       "      <td>10</td>\n",
       "      <td>51.8</td>\n",
       "    </tr>\n",
       "    <tr>\n",
       "      <th>3670</th>\n",
       "      <td>2016</td>\n",
       "      <td>11</td>\n",
       "      <td>58.0</td>\n",
       "    </tr>\n",
       "    <tr>\n",
       "      <th>3671</th>\n",
       "      <td>2016</td>\n",
       "      <td>12</td>\n",
       "      <td>92.1</td>\n",
       "    </tr>\n",
       "  </tbody>\n",
       "</table>\n",
       "</div>"
      ],
      "text/plain": [
       "      Year  Month  Rainfall\n",
       "3667  2016      8      79.1\n",
       "3668  2016      9     108.1\n",
       "3669  2016     10      51.8\n",
       "3670  2016     11      58.0\n",
       "3671  2016     12      92.1"
      ]
     },
     "execution_count": 15,
     "metadata": {},
     "output_type": "execute_result"
    }
   ],
   "source": [
    "Irish_rainfall.tail() # looking at the end of dataset"
   ]
  },
  {
   "cell_type": "code",
   "execution_count": 16,
   "metadata": {},
   "outputs": [
    {
     "name": "stdout",
     "output_type": "stream",
     "text": [
      "<class 'pandas.core.frame.DataFrame'>\n",
      "RangeIndex: 3672 entries, 0 to 3671\n",
      "Data columns (total 3 columns):\n",
      " #   Column    Non-Null Count  Dtype  \n",
      "---  ------    --------------  -----  \n",
      " 0   Year      3672 non-null   int64  \n",
      " 1   Month     3672 non-null   int64  \n",
      " 2   Rainfall  3672 non-null   float64\n",
      "dtypes: float64(1), int64(2)\n",
      "memory usage: 86.2 KB\n"
     ]
    }
   ],
   "source": [
    "Irish_rainfall.info() #seeing information on the dataset "
   ]
  },
  {
   "cell_type": "code",
   "execution_count": 17,
   "metadata": {},
   "outputs": [
    {
     "data": {
      "image/png": "[encoded data removed]",
      "text/plain": [
       "<Figure size 800x800 with 1 Axes>"
      ]
     },
     "metadata": {},
     "output_type": "display_data"
    }
   ],
   "source": [
    "mean_years = []\n",
    "std_dict = {}\n",
    "for m in range(1,13):\n",
    "  #Calcule mu and std values\n",
    "  mu = Irish_rainfall[Irish_rainfall.Month == m]['Rainfall'].mean()\n",
    "  std = Irish_rainfall[Irish_rainfall.Month == m]['Rainfall'].std()\n",
    "  #Save mu and std values\n",
    "  mean_years.append(mu)\n",
    "  std_dict[m] = std\n",
    "df_mean_years = pd.DataFrame(mean_years)\n",
    "df_mean_years['Month'] = range(1, 13)\n",
    "df_mean_years.columns = ['Rainfall', 'Month']\n",
    "plt.figure(figsize=(8, 8))\n",
    "sns.scatterplot(x='Month', y='Rainfall', data=df_mean_years,  color='blue', sizes=20).set(title='Mean of SIE per month')\n",
    "plt.show()"
   ]
  },
  {
   "cell_type": "code",
   "execution_count": 18,
   "metadata": {},
   "outputs": [],
   "source": [
    "mauna_loa_data = pd.read_csv('data/mlo_data.csv',\n",
    "                             skiprows = [i for i in range(1, 44)])\n"
   ]
  },
  {
   "cell_type": "code",
   "execution_count": 19,
   "metadata": {},
   "outputs": [
    {
     "name": "stdout",
     "output_type": "stream",
     "text": [
      "<class 'pandas.core.frame.DataFrame'>\n",
      "RangeIndex: 21 entries, 0 to 20\n",
      "Data columns (total 3 columns):\n",
      " #   Column  Non-Null Count  Dtype  \n",
      "---  ------  --------------  -----  \n",
      " 0   year    21 non-null     int64  \n",
      " 1   mean    21 non-null     float64\n",
      " 2   unc     21 non-null     float64\n",
      "dtypes: float64(2), int64(1)\n",
      "memory usage: 636.0 bytes\n"
     ]
    }
   ],
   "source": [
    "mauna_loa_data.info()"
   ]
  },
  {
   "cell_type": "code",
   "execution_count": 20,
   "metadata": {},
   "outputs": [
    {
     "data": {
      "text/html": [
       "<div>\n",
       "<style scoped>\n",
       "    .dataframe tbody tr th:only-of-type {\n",
       "        vertical-align: middle;\n",
       "    }\n",
       "\n",
       "    .dataframe tbody tr th {\n",
       "        vertical-align: top;\n",
       "    }\n",
       "\n",
       "    .dataframe thead th {\n",
       "        text-align: right;\n",
       "    }\n",
       "</style>\n",
       "<table border=\"1\" class=\"dataframe\">\n",
       "  <thead>\n",
       "    <tr style=\"text-align: right;\">\n",
       "      <th></th>\n",
       "      <th>year</th>\n",
       "      <th>mean</th>\n",
       "      <th>unc</th>\n",
       "    </tr>\n",
       "  </thead>\n",
       "  <tbody>\n",
       "    <tr>\n",
       "      <th>0</th>\n",
       "      <td>2002</td>\n",
       "      <td>373.45</td>\n",
       "      <td>0.12</td>\n",
       "    </tr>\n",
       "    <tr>\n",
       "      <th>1</th>\n",
       "      <td>2003</td>\n",
       "      <td>375.98</td>\n",
       "      <td>0.12</td>\n",
       "    </tr>\n",
       "    <tr>\n",
       "      <th>2</th>\n",
       "      <td>2004</td>\n",
       "      <td>377.70</td>\n",
       "      <td>0.12</td>\n",
       "    </tr>\n",
       "    <tr>\n",
       "      <th>3</th>\n",
       "      <td>2005</td>\n",
       "      <td>379.98</td>\n",
       "      <td>0.12</td>\n",
       "    </tr>\n",
       "    <tr>\n",
       "      <th>4</th>\n",
       "      <td>2006</td>\n",
       "      <td>382.09</td>\n",
       "      <td>0.12</td>\n",
       "    </tr>\n",
       "  </tbody>\n",
       "</table>\n",
       "</div>"
      ],
      "text/plain": [
       "   year    mean   unc\n",
       "0  2002  373.45  0.12\n",
       "1  2003  375.98  0.12\n",
       "2  2004  377.70  0.12\n",
       "3  2005  379.98  0.12\n",
       "4  2006  382.09  0.12"
      ]
     },
     "execution_count": 20,
     "metadata": {},
     "output_type": "execute_result"
    }
   ],
   "source": [
    "mauna_loa_data.head()"
   ]
  },
  {
   "cell_type": "code",
   "execution_count": 21,
   "metadata": {},
   "outputs": [
    {
     "data": {
      "text/html": [
       "<div>\n",
       "<style scoped>\n",
       "    .dataframe tbody tr th:only-of-type {\n",
       "        vertical-align: middle;\n",
       "    }\n",
       "\n",
       "    .dataframe tbody tr th {\n",
       "        vertical-align: top;\n",
       "    }\n",
       "\n",
       "    .dataframe thead th {\n",
       "        text-align: right;\n",
       "    }\n",
       "</style>\n",
       "<table border=\"1\" class=\"dataframe\">\n",
       "  <thead>\n",
       "    <tr style=\"text-align: right;\">\n",
       "      <th></th>\n",
       "      <th>year</th>\n",
       "      <th>mean</th>\n",
       "      <th>unc</th>\n",
       "    </tr>\n",
       "  </thead>\n",
       "  <tbody>\n",
       "    <tr>\n",
       "      <th>16</th>\n",
       "      <td>2018</td>\n",
       "      <td>408.72</td>\n",
       "      <td>0.12</td>\n",
       "    </tr>\n",
       "    <tr>\n",
       "      <th>17</th>\n",
       "      <td>2019</td>\n",
       "      <td>411.65</td>\n",
       "      <td>0.12</td>\n",
       "    </tr>\n",
       "    <tr>\n",
       "      <th>18</th>\n",
       "      <td>2020</td>\n",
       "      <td>414.21</td>\n",
       "      <td>0.12</td>\n",
       "    </tr>\n",
       "    <tr>\n",
       "      <th>19</th>\n",
       "      <td>2021</td>\n",
       "      <td>416.41</td>\n",
       "      <td>0.12</td>\n",
       "    </tr>\n",
       "    <tr>\n",
       "      <th>20</th>\n",
       "      <td>2022</td>\n",
       "      <td>418.53</td>\n",
       "      <td>0.12</td>\n",
       "    </tr>\n",
       "  </tbody>\n",
       "</table>\n",
       "</div>"
      ],
      "text/plain": [
       "    year    mean   unc\n",
       "16  2018  408.72  0.12\n",
       "17  2019  411.65  0.12\n",
       "18  2020  414.21  0.12\n",
       "19  2021  416.41  0.12\n",
       "20  2022  418.53  0.12"
      ]
     },
     "execution_count": 21,
     "metadata": {},
     "output_type": "execute_result"
    }
   ],
   "source": [
    "mauna_loa_data.tail()"
   ]
  },
  {
   "cell_type": "code",
   "execution_count": 22,
   "metadata": {},
   "outputs": [],
   "source": [
    "nature_co2 = pd.read_csv('data/nature.csv')"
   ]
  },
  {
   "cell_type": "code",
   "execution_count": 24,
   "metadata": {},
   "outputs": [
    {
     "name": "stdout",
     "output_type": "stream",
     "text": [
      "<class 'pandas.core.frame.DataFrame'>\n",
      "RangeIndex: 1096 entries, 0 to 1095\n",
      "Data columns (total 8 columns):\n",
      " #   Column      Non-Null Count  Dtype  \n",
      "---  ------      --------------  -----  \n",
      " 0   year        1096 non-null   int64  \n",
      " 1   co2         1096 non-null   float64\n",
      " 2   Unnamed: 2  0 non-null      float64\n",
      " 3   Unnamed: 3  0 non-null      float64\n",
      " 4   Unnamed: 4  0 non-null      float64\n",
      " 5   Unnamed: 5  0 non-null      float64\n",
      " 6   Unnamed: 6  0 non-null      float64\n",
      " 7   Unnamed: 7  0 non-null      float64\n",
      "dtypes: float64(7), int64(1)\n",
      "memory usage: 68.6 KB\n"
     ]
    }
   ],
   "source": [
    "nature_co2.info()"
   ]
  },
  {
   "cell_type": "code",
   "execution_count": 26,
   "metadata": {},
   "outputs": [
    {
     "data": {
      "text/html": [
       "<div>\n",
       "<style scoped>\n",
       "    .dataframe tbody tr th:only-of-type {\n",
       "        vertical-align: middle;\n",
       "    }\n",
       "\n",
       "    .dataframe tbody tr th {\n",
       "        vertical-align: top;\n",
       "    }\n",
       "\n",
       "    .dataframe thead th {\n",
       "        text-align: right;\n",
       "    }\n",
       "</style>\n",
       "<table border=\"1\" class=\"dataframe\">\n",
       "  <thead>\n",
       "    <tr style=\"text-align: right;\">\n",
       "      <th></th>\n",
       "      <th>year</th>\n",
       "      <th>co2</th>\n",
       "      <th>Unnamed: 2</th>\n",
       "      <th>Unnamed: 3</th>\n",
       "      <th>Unnamed: 4</th>\n",
       "      <th>Unnamed: 5</th>\n",
       "      <th>Unnamed: 6</th>\n",
       "      <th>Unnamed: 7</th>\n",
       "    </tr>\n",
       "  </thead>\n",
       "  <tbody>\n",
       "    <tr>\n",
       "      <th>0</th>\n",
       "      <td>137</td>\n",
       "      <td>280.4</td>\n",
       "      <td>NaN</td>\n",
       "      <td>NaN</td>\n",
       "      <td>NaN</td>\n",
       "      <td>NaN</td>\n",
       "      <td>NaN</td>\n",
       "      <td>NaN</td>\n",
       "    </tr>\n",
       "    <tr>\n",
       "      <th>1</th>\n",
       "      <td>268</td>\n",
       "      <td>274.9</td>\n",
       "      <td>NaN</td>\n",
       "      <td>NaN</td>\n",
       "      <td>NaN</td>\n",
       "      <td>NaN</td>\n",
       "      <td>NaN</td>\n",
       "      <td>NaN</td>\n",
       "    </tr>\n",
       "    <tr>\n",
       "      <th>2</th>\n",
       "      <td>279</td>\n",
       "      <td>277.9</td>\n",
       "      <td>NaN</td>\n",
       "      <td>NaN</td>\n",
       "      <td>NaN</td>\n",
       "      <td>NaN</td>\n",
       "      <td>NaN</td>\n",
       "      <td>NaN</td>\n",
       "    </tr>\n",
       "    <tr>\n",
       "      <th>3</th>\n",
       "      <td>395</td>\n",
       "      <td>279.1</td>\n",
       "      <td>NaN</td>\n",
       "      <td>NaN</td>\n",
       "      <td>NaN</td>\n",
       "      <td>NaN</td>\n",
       "      <td>NaN</td>\n",
       "      <td>NaN</td>\n",
       "    </tr>\n",
       "    <tr>\n",
       "      <th>4</th>\n",
       "      <td>404</td>\n",
       "      <td>281.9</td>\n",
       "      <td>NaN</td>\n",
       "      <td>NaN</td>\n",
       "      <td>NaN</td>\n",
       "      <td>NaN</td>\n",
       "      <td>NaN</td>\n",
       "      <td>NaN</td>\n",
       "    </tr>\n",
       "  </tbody>\n",
       "</table>\n",
       "</div>"
      ],
      "text/plain": [
       "   year    co2  Unnamed: 2  Unnamed: 3  Unnamed: 4  Unnamed: 5  Unnamed: 6  \\\n",
       "0   137  280.4         NaN         NaN         NaN         NaN         NaN   \n",
       "1   268  274.9         NaN         NaN         NaN         NaN         NaN   \n",
       "2   279  277.9         NaN         NaN         NaN         NaN         NaN   \n",
       "3   395  279.1         NaN         NaN         NaN         NaN         NaN   \n",
       "4   404  281.9         NaN         NaN         NaN         NaN         NaN   \n",
       "\n",
       "   Unnamed: 7  \n",
       "0         NaN  \n",
       "1         NaN  \n",
       "2         NaN  \n",
       "3         NaN  \n",
       "4         NaN  "
      ]
     },
     "execution_count": 26,
     "metadata": {},
     "output_type": "execute_result"
    }
   ],
   "source": [
    "nature_co2.head()"
   ]
  },
  {
   "cell_type": "code",
   "execution_count": null,
   "metadata": {},
   "outputs": [],
   "source": [
    "temp = pd.read_csv('data/temp_data.csv', encoding='Latin')\n"
   ]
  },
  {
   "cell_type": "code",
   "execution_count": 29,
   "metadata": {},
   "outputs": [
    {
     "name": "stdout",
     "output_type": "stream",
     "text": [
      "<class 'pandas.core.frame.DataFrame'>\n",
      "RangeIndex: 5819 entries, 0 to 5818\n",
      "Data columns (total 7 columns):\n",
      " #   Column        Non-Null Count  Dtype  \n",
      "---  ------        --------------  -----  \n",
      " 0   bag           5819 non-null   int64  \n",
      " 1   ztop          5819 non-null   float64\n",
      " 2   EDC3béta      5819 non-null   float64\n",
      " 3   AICC2012      5819 non-null   float64\n",
      " 4   deutfinal     5804 non-null   float64\n",
      " 5   temp          5819 non-null   float64\n",
      " 6   acc-EDC3beta  5819 non-null   float64\n",
      "dtypes: float64(6), int64(1)\n",
      "memory usage: 318.4 KB\n"
     ]
    }
   ],
   "source": [
    "temp.info()"
   ]
  },
  {
   "cell_type": "code",
   "execution_count": 30,
   "metadata": {},
   "outputs": [
    {
     "data": {
      "text/html": [
       "<div>\n",
       "<style scoped>\n",
       "    .dataframe tbody tr th:only-of-type {\n",
       "        vertical-align: middle;\n",
       "    }\n",
       "\n",
       "    .dataframe tbody tr th {\n",
       "        vertical-align: top;\n",
       "    }\n",
       "\n",
       "    .dataframe thead th {\n",
       "        text-align: right;\n",
       "    }\n",
       "</style>\n",
       "<table border=\"1\" class=\"dataframe\">\n",
       "  <thead>\n",
       "    <tr style=\"text-align: right;\">\n",
       "      <th></th>\n",
       "      <th>bag</th>\n",
       "      <th>ztop</th>\n",
       "      <th>EDC3béta</th>\n",
       "      <th>AICC2012</th>\n",
       "      <th>deutfinal</th>\n",
       "      <th>temp</th>\n",
       "      <th>acc-EDC3beta</th>\n",
       "    </tr>\n",
       "  </thead>\n",
       "  <tbody>\n",
       "    <tr>\n",
       "      <th>0</th>\n",
       "      <td>1</td>\n",
       "      <td>0.00</td>\n",
       "      <td>-50.00000</td>\n",
       "      <td>-55.000000</td>\n",
       "      <td>NaN</td>\n",
       "      <td>218.3</td>\n",
       "      <td>3.105321</td>\n",
       "    </tr>\n",
       "    <tr>\n",
       "      <th>1</th>\n",
       "      <td>2</td>\n",
       "      <td>0.55</td>\n",
       "      <td>-43.55977</td>\n",
       "      <td>-50.513333</td>\n",
       "      <td>NaN</td>\n",
       "      <td>218.3</td>\n",
       "      <td>3.104805</td>\n",
       "    </tr>\n",
       "    <tr>\n",
       "      <th>2</th>\n",
       "      <td>3</td>\n",
       "      <td>1.10</td>\n",
       "      <td>-37.44019</td>\n",
       "      <td>-46.026667</td>\n",
       "      <td>NaN</td>\n",
       "      <td>218.3</td>\n",
       "      <td>3.104404</td>\n",
       "    </tr>\n",
       "    <tr>\n",
       "      <th>3</th>\n",
       "      <td>4</td>\n",
       "      <td>1.65</td>\n",
       "      <td>-31.64156</td>\n",
       "      <td>-41.540000</td>\n",
       "      <td>NaN</td>\n",
       "      <td>218.3</td>\n",
       "      <td>3.104025</td>\n",
       "    </tr>\n",
       "    <tr>\n",
       "      <th>4</th>\n",
       "      <td>5</td>\n",
       "      <td>2.20</td>\n",
       "      <td>-24.55278</td>\n",
       "      <td>-34.516667</td>\n",
       "      <td>NaN</td>\n",
       "      <td>218.3</td>\n",
       "      <td>3.103453</td>\n",
       "    </tr>\n",
       "  </tbody>\n",
       "</table>\n",
       "</div>"
      ],
      "text/plain": [
       "   bag  ztop  EDC3béta   AICC2012  deutfinal   temp  acc-EDC3beta\n",
       "0    1  0.00 -50.00000 -55.000000        NaN  218.3      3.105321\n",
       "1    2  0.55 -43.55977 -50.513333        NaN  218.3      3.104805\n",
       "2    3  1.10 -37.44019 -46.026667        NaN  218.3      3.104404\n",
       "3    4  1.65 -31.64156 -41.540000        NaN  218.3      3.104025\n",
       "4    5  2.20 -24.55278 -34.516667        NaN  218.3      3.103453"
      ]
     },
     "execution_count": 30,
     "metadata": {},
     "output_type": "execute_result"
    }
   ],
   "source": [
    "temp.head()"
   ]
  }
 ],
 "metadata": {
  "kernelspec": {
   "display_name": "base",
   "language": "python",
   "name": "python3"
  },
  "language_info": {
   "codemirror_mode": {
    "name": "ipython",
    "version": 3
   },
   "file_extension": ".py",
   "mimetype": "text/x-python",
   "name": "python",
   "nbconvert_exporter": "python",
   "pygments_lexer": "ipython3",
   "version": "3.11.5"
  }
 },
 "nbformat": 4,
 "nbformat_minor": 2
}
